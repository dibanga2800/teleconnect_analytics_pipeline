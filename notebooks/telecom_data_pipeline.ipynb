{
 "cells": [
  {
   "cell_type": "markdown",
   "id": "f1804f72",
   "metadata": {},
   "source": [
    "## Data Pipeline Steps\n",
    "1. Data Extraction\n",
    "2. Quality Assesement/checks\n",
    "3. Data Cleaning/Transformation\n",
    "4. Data Validation\n",
    "5. Feature Engineering\n",
    "6. Loading\n",
    "7. Analysis and Insights"
   ]
  },
  {
   "cell_type": "markdown",
   "id": "e6dee9fd",
   "metadata": {},
   "source": [
    "## Activating Virtual Enviroment on windows\n",
    " .venv\\Scripts\\activate"
   ]
  },
  {
   "cell_type": "code",
   "execution_count": 1,
   "id": "6d185e3b",
   "metadata": {},
   "outputs": [],
   "source": [
    "#importing libraries\n",
    "import pandas as pd\n",
    "import numpy as np\n",
    "from sqlalchemy import create_engine    \n",
    "from dotenv import load_dotenv\n",
    "import psycopg2"
   ]
  },
  {
   "cell_type": "markdown",
   "id": "326fd4ce",
   "metadata": {},
   "source": [
    "### Step1: Data Extraction"
   ]
  },
  {
   "cell_type": "code",
   "execution_count": 7,
   "id": "faf64f41",
   "metadata": {},
   "outputs": [],
   "source": [
    "# Define proper data types for key columns like 'customer_id', 'phone_number', etc.\n",
    "dtypes_dict = {\n",
    "    'customer_id': 'str',\n",
    "    'phone_number': 'str',\n",
    "    'tower_id': 'str',\n",
    "    'call_id': 'str'\n",
    "   \n",
    "}"
   ]
  },
  {
   "cell_type": "code",
   "execution_count": 10,
   "id": "95874ee8",
   "metadata": {},
   "outputs": [],
   "source": [
    "df_cdr = pd.read_csv(r'C:\\Users\\David Ibanga\\Data Engineering practicals\\Teleconnect_Analytics\\data\\teleconnect_cdr_data.csv', dtype=dtypes_dict)"
   ]
  },
  {
   "cell_type": "code",
   "execution_count": 11,
   "id": "b423c7c1",
   "metadata": {},
   "outputs": [
    {
     "data": {
      "application/vnd.microsoft.datawrangler.viewer.v0+json": {
       "columns": [
        {
         "name": "index",
         "rawType": "int64",
         "type": "integer"
        },
        {
         "name": "call_id",
         "rawType": "object",
         "type": "string"
        },
        {
         "name": "customer_id",
         "rawType": "object",
         "type": "string"
        },
        {
         "name": "phone_number",
         "rawType": "object",
         "type": "string"
        },
        {
         "name": "tower_id",
         "rawType": "object",
         "type": "unknown"
        },
        {
         "name": "call_type",
         "rawType": "object",
         "type": "string"
        },
        {
         "name": "call_duration_seconds",
         "rawType": "float64",
         "type": "float"
        },
        {
         "name": "data_usage_mb",
         "rawType": "float64",
         "type": "float"
        },
        {
         "name": "signal_strength_dbm",
         "rawType": "float64",
         "type": "float"
        },
        {
         "name": "call_timestamp",
         "rawType": "object",
         "type": "string"
        },
        {
         "name": "call_success",
         "rawType": "object",
         "type": "string"
        },
        {
         "name": "revenue_naira",
         "rawType": "float64",
         "type": "float"
        },
        {
         "name": "network_type",
         "rawType": "object",
         "type": "string"
        },
        {
         "name": "roaming",
         "rawType": "object",
         "type": "string"
        }
       ],
       "ref": "dcd6b89d-044a-4257-a3d2-a275c29efed9",
       "rows": [
        [
         "0",
         "86634543-444c-4f38-aa1d-70df574593fa",
         "CU000151",
         "08169541064",
         "INVALID_TW9116",
         "SMS",
         "2532.0",
         "4666.74",
         "-85.0",
         "2024-04-30 04:30:43",
         "True",
         "842.74",
         "4G",
         "True"
        ],
        [
         "1",
         "fe36e9b9-f944-4d9a-83b2-a1796fc5074c",
         "CU000307",
         "07027999942",
         "TW0040",
         "data",
         null,
         "3281.08",
         "-74.0",
         "2024-04-08 10:37:21",
         "True",
         "126.07",
         "5G",
         "False"
        ],
        [
         "2",
         "534acb40-196b-469b-8b20-dbbe23a6e898",
         "CU001104",
         "07011766356",
         "TW0128",
         "Voice",
         "5506.0",
         "3967.93",
         null,
         "2024-05-04 16:11:44",
         "0",
         "400.31",
         "5G",
         "0"
        ],
        [
         "3",
         "04b2ab83-5325-4dd0-9a46-6d767439f5a2",
         "CU000869",
         "09059923201",
         null,
         "Voice",
         "4610.0",
         "4734.73",
         "-113.0",
         "2024-05-24 14:01:58",
         "False",
         "956.19",
         "3g",
         "True"
        ],
        [
         "4",
         "7775e1be-3638-4d37-8ae9-e91fd5a966e5",
         "CU000518",
         "08091140319",
         "TW0150",
         "SMS",
         "271.0",
         "2995.66",
         "-106.0",
         "2024-04-07 20:54:53",
         "False",
         "740.63",
         "3G",
         "1"
        ]
       ],
       "shape": {
        "columns": 13,
        "rows": 5
       }
      },
      "text/html": [
       "<div>\n",
       "<style scoped>\n",
       "    .dataframe tbody tr th:only-of-type {\n",
       "        vertical-align: middle;\n",
       "    }\n",
       "\n",
       "    .dataframe tbody tr th {\n",
       "        vertical-align: top;\n",
       "    }\n",
       "\n",
       "    .dataframe thead th {\n",
       "        text-align: right;\n",
       "    }\n",
       "</style>\n",
       "<table border=\"1\" class=\"dataframe\">\n",
       "  <thead>\n",
       "    <tr style=\"text-align: right;\">\n",
       "      <th></th>\n",
       "      <th>call_id</th>\n",
       "      <th>customer_id</th>\n",
       "      <th>phone_number</th>\n",
       "      <th>tower_id</th>\n",
       "      <th>call_type</th>\n",
       "      <th>call_duration_seconds</th>\n",
       "      <th>data_usage_mb</th>\n",
       "      <th>signal_strength_dbm</th>\n",
       "      <th>call_timestamp</th>\n",
       "      <th>call_success</th>\n",
       "      <th>revenue_naira</th>\n",
       "      <th>network_type</th>\n",
       "      <th>roaming</th>\n",
       "    </tr>\n",
       "  </thead>\n",
       "  <tbody>\n",
       "    <tr>\n",
       "      <th>0</th>\n",
       "      <td>86634543-444c-4f38-aa1d-70df574593fa</td>\n",
       "      <td>CU000151</td>\n",
       "      <td>08169541064</td>\n",
       "      <td>INVALID_TW9116</td>\n",
       "      <td>SMS</td>\n",
       "      <td>2532.0</td>\n",
       "      <td>4666.74</td>\n",
       "      <td>-85.0</td>\n",
       "      <td>2024-04-30 04:30:43</td>\n",
       "      <td>True</td>\n",
       "      <td>842.74</td>\n",
       "      <td>4G</td>\n",
       "      <td>True</td>\n",
       "    </tr>\n",
       "    <tr>\n",
       "      <th>1</th>\n",
       "      <td>fe36e9b9-f944-4d9a-83b2-a1796fc5074c</td>\n",
       "      <td>CU000307</td>\n",
       "      <td>07027999942</td>\n",
       "      <td>TW0040</td>\n",
       "      <td>data</td>\n",
       "      <td>NaN</td>\n",
       "      <td>3281.08</td>\n",
       "      <td>-74.0</td>\n",
       "      <td>2024-04-08 10:37:21</td>\n",
       "      <td>True</td>\n",
       "      <td>126.07</td>\n",
       "      <td>5G</td>\n",
       "      <td>False</td>\n",
       "    </tr>\n",
       "    <tr>\n",
       "      <th>2</th>\n",
       "      <td>534acb40-196b-469b-8b20-dbbe23a6e898</td>\n",
       "      <td>CU001104</td>\n",
       "      <td>07011766356</td>\n",
       "      <td>TW0128</td>\n",
       "      <td>Voice</td>\n",
       "      <td>5506.0</td>\n",
       "      <td>3967.93</td>\n",
       "      <td>NaN</td>\n",
       "      <td>2024-05-04 16:11:44</td>\n",
       "      <td>0</td>\n",
       "      <td>400.31</td>\n",
       "      <td>5G</td>\n",
       "      <td>0</td>\n",
       "    </tr>\n",
       "    <tr>\n",
       "      <th>3</th>\n",
       "      <td>04b2ab83-5325-4dd0-9a46-6d767439f5a2</td>\n",
       "      <td>CU000869</td>\n",
       "      <td>09059923201</td>\n",
       "      <td>NaN</td>\n",
       "      <td>Voice</td>\n",
       "      <td>4610.0</td>\n",
       "      <td>4734.73</td>\n",
       "      <td>-113.0</td>\n",
       "      <td>2024-05-24 14:01:58</td>\n",
       "      <td>False</td>\n",
       "      <td>956.19</td>\n",
       "      <td>3g</td>\n",
       "      <td>True</td>\n",
       "    </tr>\n",
       "    <tr>\n",
       "      <th>4</th>\n",
       "      <td>7775e1be-3638-4d37-8ae9-e91fd5a966e5</td>\n",
       "      <td>CU000518</td>\n",
       "      <td>08091140319</td>\n",
       "      <td>TW0150</td>\n",
       "      <td>SMS</td>\n",
       "      <td>271.0</td>\n",
       "      <td>2995.66</td>\n",
       "      <td>-106.0</td>\n",
       "      <td>2024-04-07 20:54:53</td>\n",
       "      <td>False</td>\n",
       "      <td>740.63</td>\n",
       "      <td>3G</td>\n",
       "      <td>1</td>\n",
       "    </tr>\n",
       "  </tbody>\n",
       "</table>\n",
       "</div>"
      ],
      "text/plain": [
       "                                call_id customer_id phone_number  \\\n",
       "0  86634543-444c-4f38-aa1d-70df574593fa    CU000151  08169541064   \n",
       "1  fe36e9b9-f944-4d9a-83b2-a1796fc5074c    CU000307  07027999942   \n",
       "2  534acb40-196b-469b-8b20-dbbe23a6e898    CU001104  07011766356   \n",
       "3  04b2ab83-5325-4dd0-9a46-6d767439f5a2    CU000869  09059923201   \n",
       "4  7775e1be-3638-4d37-8ae9-e91fd5a966e5    CU000518  08091140319   \n",
       "\n",
       "         tower_id call_type  call_duration_seconds  data_usage_mb  \\\n",
       "0  INVALID_TW9116       SMS                 2532.0        4666.74   \n",
       "1          TW0040      data                    NaN        3281.08   \n",
       "2          TW0128     Voice                 5506.0        3967.93   \n",
       "3             NaN     Voice                 4610.0        4734.73   \n",
       "4          TW0150       SMS                  271.0        2995.66   \n",
       "\n",
       "   signal_strength_dbm       call_timestamp call_success  revenue_naira  \\\n",
       "0                -85.0  2024-04-30 04:30:43         True         842.74   \n",
       "1                -74.0  2024-04-08 10:37:21         True         126.07   \n",
       "2                  NaN  2024-05-04 16:11:44            0         400.31   \n",
       "3               -113.0  2024-05-24 14:01:58        False         956.19   \n",
       "4               -106.0  2024-04-07 20:54:53        False         740.63   \n",
       "\n",
       "  network_type roaming  \n",
       "0           4G    True  \n",
       "1           5G   False  \n",
       "2           5G       0  \n",
       "3           3g    True  \n",
       "4           3G       1  "
      ]
     },
     "execution_count": 11,
     "metadata": {},
     "output_type": "execute_result"
    }
   ],
   "source": [
    "df_cdr.head()"
   ]
  },
  {
   "cell_type": "markdown",
   "id": "0cbfc258",
   "metadata": {},
   "source": [
    "### Understanding our data structure"
   ]
  },
  {
   "cell_type": "code",
   "execution_count": 12,
   "id": "6bde6087",
   "metadata": {},
   "outputs": [
    {
     "data": {
      "text/plain": [
       "Index(['call_id', 'customer_id', 'phone_number', 'tower_id', 'call_type',\n",
       "       'call_duration_seconds', 'data_usage_mb', 'signal_strength_dbm',\n",
       "       'call_timestamp', 'call_success', 'revenue_naira', 'network_type',\n",
       "       'roaming'],\n",
       "      dtype='object')"
      ]
     },
     "execution_count": 12,
     "metadata": {},
     "output_type": "execute_result"
    }
   ],
   "source": [
    "df_cdr.columns"
   ]
  },
  {
   "cell_type": "code",
   "execution_count": 13,
   "id": "9c54fd61",
   "metadata": {},
   "outputs": [
    {
     "data": {
      "text/plain": [
       "(5137, 13)"
      ]
     },
     "execution_count": 13,
     "metadata": {},
     "output_type": "execute_result"
    }
   ],
   "source": [
    "df_cdr.shape"
   ]
  },
  {
   "cell_type": "markdown",
   "id": "ca946612",
   "metadata": {},
   "source": [
    "### Step2- Data Quality Assessment/Checks"
   ]
  },
  {
   "cell_type": "markdown",
   "id": "7b027100",
   "metadata": {},
   "source": [
    "#check for completnesss, uniquess and consistency of data\n",
    "### Checking for missing values"
   ]
  },
  {
   "cell_type": "code",
   "execution_count": 18,
   "id": "1a1dc520",
   "metadata": {},
   "outputs": [
    {
     "data": {
      "application/vnd.microsoft.datawrangler.viewer.v0+json": {
       "columns": [
        {
         "name": "index",
         "rawType": "object",
         "type": "string"
        },
        {
         "name": "0",
         "rawType": "int64",
         "type": "integer"
        }
       ],
       "ref": "5dcc55b1-1c01-4f5b-9802-c3fe778c364a",
       "rows": [
        [
         "call_id",
         "0"
        ],
        [
         "customer_id",
         "425"
        ],
        [
         "phone_number",
         "426"
        ],
        [
         "tower_id",
         "431"
        ],
        [
         "call_type",
         "25"
        ],
        [
         "call_duration_seconds",
         "427"
        ],
        [
         "data_usage_mb",
         "434"
        ],
        [
         "signal_strength_dbm",
         "431"
        ],
        [
         "call_timestamp",
         "25"
        ],
        [
         "call_success",
         "25"
        ],
        [
         "revenue_naira",
         "25"
        ],
        [
         "network_type",
         "25"
        ],
        [
         "roaming",
         "25"
        ]
       ],
       "shape": {
        "columns": 1,
        "rows": 13
       }
      },
      "text/plain": [
       "call_id                    0\n",
       "customer_id              425\n",
       "phone_number             426\n",
       "tower_id                 431\n",
       "call_type                 25\n",
       "call_duration_seconds    427\n",
       "data_usage_mb            434\n",
       "signal_strength_dbm      431\n",
       "call_timestamp            25\n",
       "call_success              25\n",
       "revenue_naira             25\n",
       "network_type              25\n",
       "roaming                   25\n",
       "dtype: int64"
      ]
     },
     "execution_count": 18,
     "metadata": {},
     "output_type": "execute_result"
    }
   ],
   "source": [
    "#missing values in the dataset\n",
    "missing_values = df_cdr.isnull().sum()\n",
    "missing_values"
   ]
  },
  {
   "cell_type": "markdown",
   "id": "7be96a1c",
   "metadata": {},
   "source": [
    "### Checking for duplicates record"
   ]
  },
  {
   "cell_type": "code",
   "execution_count": 19,
   "id": "6f563f64",
   "metadata": {},
   "outputs": [
    {
     "data": {
      "text/plain": [
       "np.int64(112)"
      ]
     },
     "execution_count": 19,
     "metadata": {},
     "output_type": "execute_result"
    }
   ],
   "source": [
    "duplicates = df_cdr.duplicated().sum()\n",
    "duplicates"
   ]
  },
  {
   "cell_type": "code",
   "execution_count": 23,
   "id": "0fe37838",
   "metadata": {},
   "outputs": [
    {
     "name": "stdout",
     "output_type": "stream",
     "text": [
      "                                  call_id customer_id phone_number tower_id  \\\n",
      "108  45191a1c-1767-41fc-a3d3-31883483b53d    CU000001  09058984075      NaN   \n",
      "109  45191a1c-1767-41fc-a3d3-31883483b53d    CU000001  09058984075      NaN   \n",
      "125  d3b8e673-f066-4f99-b66b-effe4feaf277    CU000819  09039727843      NaN   \n",
      "126  d3b8e673-f066-4f99-b66b-effe4feaf277    CU000819  09039727843      NaN   \n",
      "177  a082047a-8441-47de-9258-d1c9bfa52bd9    CU001447  08099575199      NaN   \n",
      "\n",
      "    call_type  call_duration_seconds  data_usage_mb  signal_strength_dbm  \\\n",
      "108     Voice                 1502.0        2063.49                -41.0   \n",
      "109     Voice                 1502.0        2063.49                -41.0   \n",
      "125       SMS                   26.0         146.76                -45.0   \n",
      "126       SMS                   26.0         146.76                -45.0   \n",
      "177      data                 3494.0        4549.78                -51.0   \n",
      "\n",
      "          call_timestamp call_success  revenue_naira network_type roaming  \n",
      "108  2024-02-10 12:49:52          Yes         825.52           3g       1  \n",
      "109  2024-02-10 12:49:52          Yes         825.52           3g       1  \n",
      "125  2024-01-31 03:09:55           No         215.00           4g     Yes  \n",
      "126  2024-01-31 03:09:55           No         215.00           4g     Yes  \n",
      "177  2024-06-28 01:01:15            0         698.96           4G    True  \n"
     ]
    }
   ],
   "source": [
    "if duplicates > 0:\n",
    "    duplicated_rows = df_cdr[df_cdr.duplicated(keep=False)]\n",
    "    print(duplicated_rows.head())"
   ]
  },
  {
   "cell_type": "markdown",
   "id": "d24c369f",
   "metadata": {},
   "source": [
    "### Checking Duplicated data Types\n"
   ]
  },
  {
   "cell_type": "code",
   "execution_count": 22,
   "id": "fb5984cc",
   "metadata": {},
   "outputs": [
    {
     "data": {
      "application/vnd.microsoft.datawrangler.viewer.v0+json": {
       "columns": [
        {
         "name": "index",
         "rawType": "object",
         "type": "string"
        },
        {
         "name": "0",
         "rawType": "object",
         "type": "unknown"
        }
       ],
       "ref": "f12c039b-509e-4ab0-bef7-af3d59029aae",
       "rows": [
        [
         "call_id",
         "object"
        ],
        [
         "customer_id",
         "object"
        ],
        [
         "phone_number",
         "object"
        ],
        [
         "tower_id",
         "object"
        ],
        [
         "call_type",
         "object"
        ],
        [
         "call_duration_seconds",
         "float64"
        ],
        [
         "data_usage_mb",
         "float64"
        ],
        [
         "signal_strength_dbm",
         "float64"
        ],
        [
         "call_timestamp",
         "object"
        ],
        [
         "call_success",
         "object"
        ],
        [
         "revenue_naira",
         "float64"
        ],
        [
         "network_type",
         "object"
        ],
        [
         "roaming",
         "object"
        ]
       ],
       "shape": {
        "columns": 1,
        "rows": 13
       }
      },
      "text/plain": [
       "call_id                   object\n",
       "customer_id               object\n",
       "phone_number              object\n",
       "tower_id                  object\n",
       "call_type                 object\n",
       "call_duration_seconds    float64\n",
       "data_usage_mb            float64\n",
       "signal_strength_dbm      float64\n",
       "call_timestamp            object\n",
       "call_success              object\n",
       "revenue_naira            float64\n",
       "network_type              object\n",
       "roaming                   object\n",
       "dtype: object"
      ]
     },
     "execution_count": 22,
     "metadata": {},
     "output_type": "execute_result"
    }
   ],
   "source": [
    "df_cdr.dtypes"
   ]
  },
  {
   "cell_type": "markdown",
   "id": "2736e1ea",
   "metadata": {},
   "source": [
    "### Checking for inconsistent Values"
   ]
  },
  {
   "cell_type": "code",
   "execution_count": 25,
   "id": "3a4c1028",
   "metadata": {},
   "outputs": [
    {
     "data": {
      "text/plain": [
       "87"
      ]
     },
     "execution_count": 25,
     "metadata": {},
     "output_type": "execute_result"
    }
   ],
   "source": [
    "negative_durations = df_cdr[df_cdr['call_duration_seconds'] < 0]\n",
    "len(negative_durations)"
   ]
  },
  {
   "cell_type": "code",
   "execution_count": 26,
   "id": "0ed08552",
   "metadata": {},
   "outputs": [
    {
     "data": {
      "application/vnd.microsoft.datawrangler.viewer.v0+json": {
       "columns": [
        {
         "name": "network_type",
         "rawType": "object",
         "type": "string"
        },
        {
         "name": "count",
         "rawType": "int64",
         "type": "integer"
        }
       ],
       "ref": "654a4960-9c9c-46f1-9560-b6d0cd6fcad1",
       "rows": [
        [
         "5G",
         "907"
        ],
        [
         "4G",
         "858"
        ],
        [
         "4g",
         "854"
        ],
        [
         "2G",
         "846"
        ],
        [
         "3G",
         "825"
        ],
        [
         "3g",
         "822"
        ]
       ],
       "shape": {
        "columns": 1,
        "rows": 6
       }
      },
      "text/plain": [
       "network_type\n",
       "5G    907\n",
       "4G    858\n",
       "4g    854\n",
       "2G    846\n",
       "3G    825\n",
       "3g    822\n",
       "Name: count, dtype: int64"
      ]
     },
     "execution_count": 26,
     "metadata": {},
     "output_type": "execute_result"
    }
   ],
   "source": [
    "# check network type consistency\n",
    "df_cdr['network_type'].value_counts()"
   ]
  },
  {
   "cell_type": "code",
   "execution_count": 27,
   "id": "eb0bf024",
   "metadata": {},
   "outputs": [
    {
     "data": {
      "application/vnd.microsoft.datawrangler.viewer.v0+json": {
       "columns": [
        {
         "name": "call_type",
         "rawType": "object",
         "type": "string"
        },
        {
         "name": "count",
         "rawType": "int64",
         "type": "integer"
        }
       ],
       "ref": "811cc570-270c-40cf-a8d5-8d628228af0e",
       "rows": [
        [
         "sms",
         "894"
        ],
        [
         "voice",
         "866"
        ],
        [
         "data",
         "846"
        ],
        [
         "Data",
         "845"
        ],
        [
         "SMS",
         "832"
        ],
        [
         "Voice",
         "829"
        ]
       ],
       "shape": {
        "columns": 1,
        "rows": 6
       }
      },
      "text/plain": [
       "call_type\n",
       "sms      894\n",
       "voice    866\n",
       "data     846\n",
       "Data     845\n",
       "SMS      832\n",
       "Voice    829\n",
       "Name: count, dtype: int64"
      ]
     },
     "execution_count": 27,
     "metadata": {},
     "output_type": "execute_result"
    }
   ],
   "source": [
    "df_cdr['call_type'].value_counts()"
   ]
  },
  {
   "cell_type": "code",
   "execution_count": 28,
   "id": "18df7e00",
   "metadata": {},
   "outputs": [
    {
     "data": {
      "application/vnd.microsoft.datawrangler.viewer.v0+json": {
       "columns": [
        {
         "name": "call_success",
         "rawType": "object",
         "type": "string"
        },
        {
         "name": "count",
         "rawType": "int64",
         "type": "integer"
        }
       ],
       "ref": "9fbf8632-7fe7-43a0-84b3-47d0c1e00ca7",
       "rows": [
        [
         "N",
         "678"
        ],
        [
         "0",
         "669"
        ],
        [
         "False",
         "664"
        ],
        [
         "Y",
         "643"
        ],
        [
         "1",
         "633"
        ],
        [
         "Yes",
         "632"
        ],
        [
         "No",
         "605"
        ],
        [
         "True",
         "588"
        ]
       ],
       "shape": {
        "columns": 1,
        "rows": 8
       }
      },
      "text/plain": [
       "call_success\n",
       "N        678\n",
       "0        669\n",
       "False    664\n",
       "Y        643\n",
       "1        633\n",
       "Yes      632\n",
       "No       605\n",
       "True     588\n",
       "Name: count, dtype: int64"
      ]
     },
     "execution_count": 28,
     "metadata": {},
     "output_type": "execute_result"
    }
   ],
   "source": [
    "df_cdr['call_success'].value_counts()"
   ]
  },
  {
   "cell_type": "code",
   "execution_count": 29,
   "id": "5ac56b95",
   "metadata": {},
   "outputs": [
    {
     "data": {
      "application/vnd.microsoft.datawrangler.viewer.v0+json": {
       "columns": [
        {
         "name": "roaming",
         "rawType": "object",
         "type": "string"
        },
        {
         "name": "count",
         "rawType": "int64",
         "type": "integer"
        }
       ],
       "ref": "ef5f7796-c4b7-4708-955c-8a1aa0351bd2",
       "rows": [
        [
         "No",
         "881"
        ],
        [
         "True",
         "872"
        ],
        [
         "False",
         "868"
        ],
        [
         "1",
         "847"
        ],
        [
         "0",
         "834"
        ],
        [
         "Yes",
         "810"
        ]
       ],
       "shape": {
        "columns": 1,
        "rows": 6
       }
      },
      "text/plain": [
       "roaming\n",
       "No       881\n",
       "True     872\n",
       "False    868\n",
       "1        847\n",
       "0        834\n",
       "Yes      810\n",
       "Name: count, dtype: int64"
      ]
     },
     "execution_count": 29,
     "metadata": {},
     "output_type": "execute_result"
    }
   ],
   "source": [
    "df_cdr['roaming'].value_counts()"
   ]
  },
  {
   "cell_type": "code",
   "execution_count": 32,
   "id": "cd63de90",
   "metadata": {},
   "outputs": [
    {
     "data": {
      "application/vnd.microsoft.datawrangler.viewer.v0+json": {
       "columns": [
        {
         "name": "phone_number",
         "rawType": "float64",
         "type": "float"
        },
        {
         "name": "count",
         "rawType": "int64",
         "type": "integer"
        }
       ],
       "ref": "24b5a0a3-773a-4460-b59e-71e81a3621ef",
       "rows": [
        [
         "11.0",
         "4253"
        ],
        [
         "9.0",
         "233"
        ],
        [
         "10.0",
         "163"
        ],
        [
         "14.0",
         "62"
        ]
       ],
       "shape": {
        "columns": 1,
        "rows": 4
       }
      },
      "text/plain": [
       "phone_number\n",
       "11.0    4253\n",
       "9.0      233\n",
       "10.0     163\n",
       "14.0      62\n",
       "Name: count, dtype: int64"
      ]
     },
     "execution_count": 32,
     "metadata": {},
     "output_type": "execute_result"
    }
   ],
   "source": [
    "# df_cdr['phone_number'].value_counts()\n",
    "phone_lengths = df_cdr['phone_number'].str.len()\n",
    "phone_lengths.value_counts()"
   ]
  },
  {
   "cell_type": "markdown",
   "id": "d01c75ff",
   "metadata": {},
   "source": [
    "### Step 3 - Data Cleaning And Transformation"
   ]
  },
  {
   "cell_type": "code",
   "execution_count": 33,
   "id": "b95419bb",
   "metadata": {},
   "outputs": [],
   "source": [
    "# create a copy of original data for cleaning\n",
    "df_clean = df_cdr.copy()"
   ]
  },
  {
   "cell_type": "markdown",
   "id": "d2f19f0a",
   "metadata": {},
   "source": [
    "### Handle missing values"
   ]
  },
  {
   "cell_type": "code",
   "execution_count": 34,
   "id": "ab8dfa6a",
   "metadata": {},
   "outputs": [
    {
     "data": {
      "application/vnd.microsoft.datawrangler.viewer.v0+json": {
       "columns": [
        {
         "name": "index",
         "rawType": "int64",
         "type": "integer"
        },
        {
         "name": "call_id",
         "rawType": "object",
         "type": "string"
        },
        {
         "name": "customer_id",
         "rawType": "object",
         "type": "string"
        },
        {
         "name": "phone_number",
         "rawType": "object",
         "type": "string"
        },
        {
         "name": "tower_id",
         "rawType": "object",
         "type": "unknown"
        },
        {
         "name": "call_type",
         "rawType": "object",
         "type": "string"
        },
        {
         "name": "call_duration_seconds",
         "rawType": "float64",
         "type": "float"
        },
        {
         "name": "data_usage_mb",
         "rawType": "float64",
         "type": "float"
        },
        {
         "name": "signal_strength_dbm",
         "rawType": "float64",
         "type": "float"
        },
        {
         "name": "call_timestamp",
         "rawType": "object",
         "type": "string"
        },
        {
         "name": "call_success",
         "rawType": "object",
         "type": "string"
        },
        {
         "name": "revenue_naira",
         "rawType": "float64",
         "type": "float"
        },
        {
         "name": "network_type",
         "rawType": "object",
         "type": "string"
        },
        {
         "name": "roaming",
         "rawType": "object",
         "type": "string"
        }
       ],
       "ref": "f177dd87-a9a4-48fe-9109-27aeeaf36825",
       "rows": [
        [
         "0",
         "86634543-444c-4f38-aa1d-70df574593fa",
         "CU000151",
         "08169541064",
         "INVALID_TW9116",
         "SMS",
         "2532.0",
         "4666.74",
         "-85.0",
         "2024-04-30 04:30:43",
         "True",
         "842.74",
         "4G",
         "True"
        ],
        [
         "1",
         "fe36e9b9-f944-4d9a-83b2-a1796fc5074c",
         "CU000307",
         "07027999942",
         "TW0040",
         "data",
         null,
         "3281.08",
         "-74.0",
         "2024-04-08 10:37:21",
         "True",
         "126.07",
         "5G",
         "False"
        ],
        [
         "2",
         "534acb40-196b-469b-8b20-dbbe23a6e898",
         "CU001104",
         "07011766356",
         "TW0128",
         "Voice",
         "5506.0",
         "3967.93",
         null,
         "2024-05-04 16:11:44",
         "0",
         "400.31",
         "5G",
         "0"
        ],
        [
         "3",
         "04b2ab83-5325-4dd0-9a46-6d767439f5a2",
         "CU000869",
         "09059923201",
         null,
         "Voice",
         "4610.0",
         "4734.73",
         "-113.0",
         "2024-05-24 14:01:58",
         "False",
         "956.19",
         "3g",
         "True"
        ],
        [
         "4",
         "7775e1be-3638-4d37-8ae9-e91fd5a966e5",
         "CU000518",
         "08091140319",
         "TW0150",
         "SMS",
         "271.0",
         "2995.66",
         "-106.0",
         "2024-04-07 20:54:53",
         "False",
         "740.63",
         "3G",
         "1"
        ]
       ],
       "shape": {
        "columns": 13,
        "rows": 5
       }
      },
      "text/html": [
       "<div>\n",
       "<style scoped>\n",
       "    .dataframe tbody tr th:only-of-type {\n",
       "        vertical-align: middle;\n",
       "    }\n",
       "\n",
       "    .dataframe tbody tr th {\n",
       "        vertical-align: top;\n",
       "    }\n",
       "\n",
       "    .dataframe thead th {\n",
       "        text-align: right;\n",
       "    }\n",
       "</style>\n",
       "<table border=\"1\" class=\"dataframe\">\n",
       "  <thead>\n",
       "    <tr style=\"text-align: right;\">\n",
       "      <th></th>\n",
       "      <th>call_id</th>\n",
       "      <th>customer_id</th>\n",
       "      <th>phone_number</th>\n",
       "      <th>tower_id</th>\n",
       "      <th>call_type</th>\n",
       "      <th>call_duration_seconds</th>\n",
       "      <th>data_usage_mb</th>\n",
       "      <th>signal_strength_dbm</th>\n",
       "      <th>call_timestamp</th>\n",
       "      <th>call_success</th>\n",
       "      <th>revenue_naira</th>\n",
       "      <th>network_type</th>\n",
       "      <th>roaming</th>\n",
       "    </tr>\n",
       "  </thead>\n",
       "  <tbody>\n",
       "    <tr>\n",
       "      <th>0</th>\n",
       "      <td>86634543-444c-4f38-aa1d-70df574593fa</td>\n",
       "      <td>CU000151</td>\n",
       "      <td>08169541064</td>\n",
       "      <td>INVALID_TW9116</td>\n",
       "      <td>SMS</td>\n",
       "      <td>2532.0</td>\n",
       "      <td>4666.74</td>\n",
       "      <td>-85.0</td>\n",
       "      <td>2024-04-30 04:30:43</td>\n",
       "      <td>True</td>\n",
       "      <td>842.74</td>\n",
       "      <td>4G</td>\n",
       "      <td>True</td>\n",
       "    </tr>\n",
       "    <tr>\n",
       "      <th>1</th>\n",
       "      <td>fe36e9b9-f944-4d9a-83b2-a1796fc5074c</td>\n",
       "      <td>CU000307</td>\n",
       "      <td>07027999942</td>\n",
       "      <td>TW0040</td>\n",
       "      <td>data</td>\n",
       "      <td>NaN</td>\n",
       "      <td>3281.08</td>\n",
       "      <td>-74.0</td>\n",
       "      <td>2024-04-08 10:37:21</td>\n",
       "      <td>True</td>\n",
       "      <td>126.07</td>\n",
       "      <td>5G</td>\n",
       "      <td>False</td>\n",
       "    </tr>\n",
       "    <tr>\n",
       "      <th>2</th>\n",
       "      <td>534acb40-196b-469b-8b20-dbbe23a6e898</td>\n",
       "      <td>CU001104</td>\n",
       "      <td>07011766356</td>\n",
       "      <td>TW0128</td>\n",
       "      <td>Voice</td>\n",
       "      <td>5506.0</td>\n",
       "      <td>3967.93</td>\n",
       "      <td>NaN</td>\n",
       "      <td>2024-05-04 16:11:44</td>\n",
       "      <td>0</td>\n",
       "      <td>400.31</td>\n",
       "      <td>5G</td>\n",
       "      <td>0</td>\n",
       "    </tr>\n",
       "    <tr>\n",
       "      <th>3</th>\n",
       "      <td>04b2ab83-5325-4dd0-9a46-6d767439f5a2</td>\n",
       "      <td>CU000869</td>\n",
       "      <td>09059923201</td>\n",
       "      <td>NaN</td>\n",
       "      <td>Voice</td>\n",
       "      <td>4610.0</td>\n",
       "      <td>4734.73</td>\n",
       "      <td>-113.0</td>\n",
       "      <td>2024-05-24 14:01:58</td>\n",
       "      <td>False</td>\n",
       "      <td>956.19</td>\n",
       "      <td>3g</td>\n",
       "      <td>True</td>\n",
       "    </tr>\n",
       "    <tr>\n",
       "      <th>4</th>\n",
       "      <td>7775e1be-3638-4d37-8ae9-e91fd5a966e5</td>\n",
       "      <td>CU000518</td>\n",
       "      <td>08091140319</td>\n",
       "      <td>TW0150</td>\n",
       "      <td>SMS</td>\n",
       "      <td>271.0</td>\n",
       "      <td>2995.66</td>\n",
       "      <td>-106.0</td>\n",
       "      <td>2024-04-07 20:54:53</td>\n",
       "      <td>False</td>\n",
       "      <td>740.63</td>\n",
       "      <td>3G</td>\n",
       "      <td>1</td>\n",
       "    </tr>\n",
       "  </tbody>\n",
       "</table>\n",
       "</div>"
      ],
      "text/plain": [
       "                                call_id customer_id phone_number  \\\n",
       "0  86634543-444c-4f38-aa1d-70df574593fa    CU000151  08169541064   \n",
       "1  fe36e9b9-f944-4d9a-83b2-a1796fc5074c    CU000307  07027999942   \n",
       "2  534acb40-196b-469b-8b20-dbbe23a6e898    CU001104  07011766356   \n",
       "3  04b2ab83-5325-4dd0-9a46-6d767439f5a2    CU000869  09059923201   \n",
       "4  7775e1be-3638-4d37-8ae9-e91fd5a966e5    CU000518  08091140319   \n",
       "\n",
       "         tower_id call_type  call_duration_seconds  data_usage_mb  \\\n",
       "0  INVALID_TW9116       SMS                 2532.0        4666.74   \n",
       "1          TW0040      data                    NaN        3281.08   \n",
       "2          TW0128     Voice                 5506.0        3967.93   \n",
       "3             NaN     Voice                 4610.0        4734.73   \n",
       "4          TW0150       SMS                  271.0        2995.66   \n",
       "\n",
       "   signal_strength_dbm       call_timestamp call_success  revenue_naira  \\\n",
       "0                -85.0  2024-04-30 04:30:43         True         842.74   \n",
       "1                -74.0  2024-04-08 10:37:21         True         126.07   \n",
       "2                  NaN  2024-05-04 16:11:44            0         400.31   \n",
       "3               -113.0  2024-05-24 14:01:58        False         956.19   \n",
       "4               -106.0  2024-04-07 20:54:53        False         740.63   \n",
       "\n",
       "  network_type roaming  \n",
       "0           4G    True  \n",
       "1           5G   False  \n",
       "2           5G       0  \n",
       "3           3g    True  \n",
       "4           3G       1  "
      ]
     },
     "execution_count": 34,
     "metadata": {},
     "output_type": "execute_result"
    }
   ],
   "source": [
    "df_clean.head()"
   ]
  },
  {
   "cell_type": "code",
   "execution_count": 40,
   "id": "4840ac2d",
   "metadata": {},
   "outputs": [],
   "source": [
    "#handle missing values for critical columns\n",
    "df_clean =df_clean.dropna(subset=['customer_id', 'phone_number', 'call_duration_seconds'])"
   ]
  },
  {
   "cell_type": "code",
   "execution_count": 41,
   "id": "422c92a1",
   "metadata": {},
   "outputs": [],
   "source": [
    "fill_values = {\n",
    "    'call_duration_seconds': 0,\n",
    "    'data_usage_mb': 0,\n",
    "    'signal_strength_dbm': df_clean['signal_strength_dbm'].median(),\n",
    "    'tower_id': 'unknown'\n",
    "}\n",
    "df_clean = df_clean.fillna(value=fill_values)"
   ]
  },
  {
   "cell_type": "code",
   "execution_count": 42,
   "id": "79e04163",
   "metadata": {},
   "outputs": [
    {
     "data": {
      "application/vnd.microsoft.datawrangler.viewer.v0+json": {
       "columns": [
        {
         "name": "index",
         "rawType": "object",
         "type": "string"
        },
        {
         "name": "0",
         "rawType": "int64",
         "type": "integer"
        }
       ],
       "ref": "15556385-72bb-480d-97af-c003964b1e2c",
       "rows": [
        [
         "call_id",
         "0"
        ],
        [
         "customer_id",
         "0"
        ],
        [
         "phone_number",
         "0"
        ],
        [
         "tower_id",
         "0"
        ],
        [
         "call_type",
         "0"
        ],
        [
         "call_duration_seconds",
         "0"
        ],
        [
         "data_usage_mb",
         "0"
        ],
        [
         "signal_strength_dbm",
         "0"
        ],
        [
         "call_timestamp",
         "0"
        ],
        [
         "call_success",
         "0"
        ],
        [
         "revenue_naira",
         "0"
        ],
        [
         "network_type",
         "0"
        ],
        [
         "roaming",
         "0"
        ]
       ],
       "shape": {
        "columns": 1,
        "rows": 13
       }
      },
      "text/plain": [
       "call_id                  0\n",
       "customer_id              0\n",
       "phone_number             0\n",
       "tower_id                 0\n",
       "call_type                0\n",
       "call_duration_seconds    0\n",
       "data_usage_mb            0\n",
       "signal_strength_dbm      0\n",
       "call_timestamp           0\n",
       "call_success             0\n",
       "revenue_naira            0\n",
       "network_type             0\n",
       "roaming                  0\n",
       "dtype: int64"
      ]
     },
     "execution_count": 42,
     "metadata": {},
     "output_type": "execute_result"
    }
   ],
   "source": [
    "df_clean.isnull().sum()"
   ]
  },
  {
   "cell_type": "code",
   "execution_count": null,
   "id": "7a89c935",
   "metadata": {},
   "outputs": [
    {
     "data": {
      "text/plain": [
       "4000"
      ]
     },
     "execution_count": 43,
     "metadata": {},
     "output_type": "execute_result"
    }
   ],
   "source": [
    "initial_rows =len(df_clean)\n",
    "initial_rows"
   ]
  },
  {
   "cell_type": "code",
   "execution_count": 44,
   "id": "9166c096",
   "metadata": {},
   "outputs": [],
   "source": [
    "# drop duplicates\n",
    "df_clean = df_clean.drop_duplicates()"
   ]
  },
  {
   "cell_type": "code",
   "execution_count": 45,
   "id": "db61acb0",
   "metadata": {},
   "outputs": [
    {
     "data": {
      "text/plain": [
       "3912"
      ]
     },
     "execution_count": 45,
     "metadata": {},
     "output_type": "execute_result"
    }
   ],
   "source": [
    "initial_rows =len(df_clean)\n",
    "initial_rows"
   ]
  },
  {
   "cell_type": "code",
   "execution_count": 46,
   "id": "1a4ea39d",
   "metadata": {},
   "outputs": [],
   "source": [
    "#Handle negative call durations #loc is short form for loaction #iloc is index location\n",
    "df_clean.loc[df_clean['call_duration_seconds'] < 0, 'call_duration_seconds'] = 0"
   ]
  },
  {
   "cell_type": "code",
   "execution_count": 47,
   "id": "a55ddaf5",
   "metadata": {},
   "outputs": [
    {
     "data": {
      "text/plain": [
       "0"
      ]
     },
     "execution_count": 47,
     "metadata": {},
     "output_type": "execute_result"
    }
   ],
   "source": [
    "negative_durations = df_clean[df_clean['call_duration_seconds'] < 0]\n",
    "len(negative_durations)"
   ]
  },
  {
   "cell_type": "markdown",
   "id": "eea018ea",
   "metadata": {},
   "source": [
    "### Standardizing Text formats"
   ]
  },
  {
   "cell_type": "code",
   "execution_count": null,
   "id": "6546a290",
   "metadata": {},
   "outputs": [
    {
     "data": {
      "application/vnd.microsoft.datawrangler.viewer.v0+json": {
       "columns": [
        {
         "name": "call_type",
         "rawType": "object",
         "type": "string"
        },
        {
         "name": "count",
         "rawType": "int64",
         "type": "integer"
        }
       ],
       "ref": "af18afe7-aaa6-4bc3-b9de-eb21ee28169e",
       "rows": [
        [
         "Sms",
         "1329"
        ],
        [
         "Data",
         "1303"
        ],
        [
         "Voice",
         "1280"
        ]
       ],
       "shape": {
        "columns": 1,
        "rows": 3
       }
      },
      "text/plain": [
       "call_type\n",
       "Sms      1329\n",
       "Data     1303\n",
       "Voice    1280\n",
       "Name: count, dtype: int64"
      ]
     },
     "execution_count": 48,
     "metadata": {},
     "output_type": "execute_result"
    }
   ],
   "source": [
    "#.str.title makes the first letter of each word uppercase and the rest lowercase\n",
    "df_clean['call_type'] = df_clean['call_type'].str.lower().str.title()\n",
    "df_clean['call_type'].value_counts()"
   ]
  },
  {
   "cell_type": "code",
   "execution_count": 49,
   "id": "715fed35",
   "metadata": {},
   "outputs": [
    {
     "data": {
      "application/vnd.microsoft.datawrangler.viewer.v0+json": {
       "columns": [
        {
         "name": "network_type",
         "rawType": "object",
         "type": "string"
        },
        {
         "name": "count",
         "rawType": "int64",
         "type": "integer"
        }
       ],
       "ref": "f5d13435-8e2c-4869-82ad-b46c14058535",
       "rows": [
        [
         "4G",
         "1309"
        ],
        [
         "3G",
         "1266"
        ],
        [
         "5G",
         "705"
        ],
        [
         "2G",
         "632"
        ]
       ],
       "shape": {
        "columns": 1,
        "rows": 4
       }
      },
      "text/plain": [
       "network_type\n",
       "4G    1309\n",
       "3G    1266\n",
       "5G     705\n",
       "2G     632\n",
       "Name: count, dtype: int64"
      ]
     },
     "execution_count": 49,
     "metadata": {},
     "output_type": "execute_result"
    }
   ],
   "source": [
    "df_clean['network_type'] = df_clean['network_type'].str.upper().str.title()\n",
    "df_clean['network_type'].value_counts()"
   ]
  },
  {
   "cell_type": "code",
   "execution_count": 50,
   "id": "a6f872f5",
   "metadata": {},
   "outputs": [
    {
     "data": {
      "application/vnd.microsoft.datawrangler.viewer.v0+json": {
       "columns": [
        {
         "name": "call_success",
         "rawType": "object",
         "type": "string"
        },
        {
         "name": "count",
         "rawType": "int64",
         "type": "integer"
        }
       ],
       "ref": "6b0582b0-d575-4576-b832-7571df4dc7a6",
       "rows": [
        [
         "N",
         "525"
        ],
        [
         "0",
         "513"
        ],
        [
         "False",
         "507"
        ],
        [
         "1",
         "500"
        ],
        [
         "Y",
         "486"
        ],
        [
         "Yes",
         "481"
        ],
        [
         "No",
         "454"
        ],
        [
         "True",
         "446"
        ]
       ],
       "shape": {
        "columns": 1,
        "rows": 8
       }
      },
      "text/plain": [
       "call_success\n",
       "N        525\n",
       "0        513\n",
       "False    507\n",
       "1        500\n",
       "Y        486\n",
       "Yes      481\n",
       "No       454\n",
       "True     446\n",
       "Name: count, dtype: int64"
      ]
     },
     "execution_count": 50,
     "metadata": {},
     "output_type": "execute_result"
    }
   ],
   "source": [
    "df_clean['call_success'].value_counts()"
   ]
  },
  {
   "cell_type": "code",
   "execution_count": 51,
   "id": "cf45adac",
   "metadata": {},
   "outputs": [],
   "source": [
    "#standardizing boolean columns\n",
    "def standardize_boolean(value):\n",
    "    if pd.isna(value):\n",
    "        return None\n",
    "    value = str(value).lower()\n",
    "    if value in ['yes', 'true', '1']:\n",
    "        return True\n",
    "    elif value in ['no', 'false', '0']:\n",
    "        return False\n",
    "    else:\n",
    "        return None\n",
    "\n",
    "\n",
    "    "
   ]
  },
  {
   "cell_type": "code",
   "execution_count": 52,
   "id": "73674933",
   "metadata": {},
   "outputs": [
    {
     "data": {
      "application/vnd.microsoft.datawrangler.viewer.v0+json": {
       "columns": [
        {
         "name": "call_success",
         "rawType": "object",
         "type": "unknown"
        },
        {
         "name": "count",
         "rawType": "int64",
         "type": "integer"
        }
       ],
       "ref": "1e4e5507-8160-4b60-bc1a-d13d20d91fc6",
       "rows": [
        [
         "False",
         "1474"
        ],
        [
         "True",
         "1427"
        ]
       ],
       "shape": {
        "columns": 1,
        "rows": 2
       }
      },
      "text/plain": [
       "call_success\n",
       "False    1474\n",
       "True     1427\n",
       "Name: count, dtype: int64"
      ]
     },
     "execution_count": 52,
     "metadata": {},
     "output_type": "execute_result"
    }
   ],
   "source": [
    "df_clean['call_success']=df_clean['call_success'].apply(standardize_boolean)\n",
    "df_clean['call_success'].value_counts()"
   ]
  },
  {
   "cell_type": "code",
   "execution_count": 53,
   "id": "afeafcd8",
   "metadata": {},
   "outputs": [
    {
     "data": {
      "application/vnd.microsoft.datawrangler.viewer.v0+json": {
       "columns": [
        {
         "name": "roaming",
         "rawType": "bool",
         "type": "boolean"
        },
        {
         "name": "count",
         "rawType": "int64",
         "type": "integer"
        }
       ],
       "ref": "0e94585f-4f93-47a8-8129-0f73f3fc69ab",
       "rows": [
        [
         "False",
         "1974"
        ],
        [
         "True",
         "1938"
        ]
       ],
       "shape": {
        "columns": 1,
        "rows": 2
       }
      },
      "text/plain": [
       "roaming\n",
       "False    1974\n",
       "True     1938\n",
       "Name: count, dtype: int64"
      ]
     },
     "execution_count": 53,
     "metadata": {},
     "output_type": "execute_result"
    }
   ],
   "source": [
    "df_clean['roaming']=df_clean['roaming'].apply(standardize_boolean)\n",
    "df_clean['roaming'].value_counts()"
   ]
  }
 ],
 "metadata": {
  "kernelspec": {
   "display_name": ".venv",
   "language": "python",
   "name": "python3"
  },
  "language_info": {
   "codemirror_mode": {
    "name": "ipython",
    "version": 3
   },
   "file_extension": ".py",
   "mimetype": "text/x-python",
   "name": "python",
   "nbconvert_exporter": "python",
   "pygments_lexer": "ipython3",
   "version": "3.11.4"
  }
 },
 "nbformat": 4,
 "nbformat_minor": 5
}
